{
 "cells": [
  {
   "cell_type": "code",
   "execution_count": 20,
   "id": "5b9c7db7-e853-41b0-8f64-9122d92fdb71",
   "metadata": {},
   "outputs": [],
   "source": [
    "import streamlit as st\n",
    "import pickle\n",
    "import numpy as np"
   ]
  },
  {
   "cell_type": "code",
   "execution_count": 16,
   "id": "e2ec3634-82ac-42f9-9720-f0a2bedc2292",
   "metadata": {},
   "outputs": [],
   "source": [
    "with open(\"model.pkl\", \"rb\") as f:\n",
    "    final_model = pickle.load(f)"
   ]
  },
  {
   "cell_type": "code",
   "execution_count": 18,
   "id": "dfacfbaa-b55a-432f-9b7c-ce8802be20b4",
   "metadata": {},
   "outputs": [
    {
     "name": "stdin",
     "output_type": "stream",
     "text": [
      " (37,1,2,130,250,0,1,187,0,3.5,0,0,2)\n"
     ]
    },
    {
     "ename": "ValueError",
     "evalue": "invalid literal for int() with base 10: '(37,1,2,130,250,0,1,187,0,3.5,0,0,2)'",
     "output_type": "error",
     "traceback": [
      "\u001b[1;31m---------------------------------------------------------------------------\u001b[0m",
      "\u001b[1;31mValueError\u001b[0m                                Traceback (most recent call last)",
      "Cell \u001b[1;32mIn[18], line 1\u001b[0m\n\u001b[1;32m----> 1\u001b[0m input_data \u001b[38;5;241m=\u001b[39m \u001b[38;5;28;43mint\u001b[39;49m\u001b[43m(\u001b[49m\u001b[38;5;28;43minput\u001b[39;49m\u001b[43m(\u001b[49m\u001b[43m)\u001b[49m\u001b[43m)\u001b[49m\n\u001b[0;32m      3\u001b[0m \u001b[38;5;28;01mdef\u001b[39;00m \u001b[38;5;21mprediction\u001b[39m(i):\n\u001b[0;32m      4\u001b[0m     df_array \u001b[38;5;241m=\u001b[39m np\u001b[38;5;241m.\u001b[39masarray(input_data)\n",
      "\u001b[1;31mValueError\u001b[0m: invalid literal for int() with base 10: '(37,1,2,130,250,0,1,187,0,3.5,0,0,2)'"
     ]
    }
   ],
   "source": [
    "input_data = int(input())\n",
    "\n",
    "def prediction(i):\n",
    "    df_array = np.asarray(input_data)\n",
    "    reshaped_data = df_array.reshape(1,-1)\n",
    "    result = final_model.predict(reshaped_data)\n",
    "    if result == 1:\n",
    "        print('Defective heart')\n",
    "    else:\n",
    "        print('Healthy Heart')\n",
    "\n",
    "prediction(input_data)"
   ]
  },
  {
   "cell_type": "code",
   "execution_count": 21,
   "id": "bd39ede2-903b-493a-b941-546afa5e38ec",
   "metadata": {},
   "outputs": [
    {
     "name": "stderr",
     "output_type": "stream",
     "text": [
      "2025-09-21 18:49:09.994 WARNING streamlit.runtime.state.session_state_proxy: Session state does not function when running a script without `streamlit run`\n",
      "2025-09-21 18:49:10.427 \n",
      "  \u001b[33m\u001b[1mWarning:\u001b[0m to view this Streamlit app on a browser, run it with the following\n",
      "  command:\n",
      "\n",
      "    streamlit run C:\\Users\\DELL\\AppData\\Roaming\\Python\\Python312\\site-packages\\ipykernel_launcher.py [ARGUMENTS]\n"
     ]
    }
   ],
   "source": [
    "age = st.number_input(\"Age\", min_value=1, max_value=120, step=1)\n",
    "sex = st.selectbox(\"Sex\", [0, 1])  # 0 = female, 1 = male\n",
    "cp = st.number_input(\"Chest Pain Type (0-3)\", min_value=0, max_value=3, step=1)\n",
    "trestbps = st.number_input(\"Resting Blood Pressure\")\n",
    "chol = st.number_input(\"Cholesterol\")\n",
    "fbs = st.selectbox(\"Fasting Blood Sugar > 120 mg/dl\", [0, 1])\n",
    "restecg = st.number_input(\"Resting ECG Results (0-2)\", min_value=0, max_value=2, step=1)\n",
    "thalach = st.number_input(\"Max Heart Rate Achieved\")\n",
    "exang = st.selectbox(\"Exercise Induced Angina\", [0, 1])\n",
    "oldpeak = st.number_input(\"ST Depression\")\n",
    "slope = st.number_input(\"Slope of Peak Exercise ST Segment (0-2)\", min_value=0, max_value=2, step=1)\n",
    "ca = st.number_input(\"Number of Major Vessels (0-3)\", min_value=0, max_value=3, step=1)\n",
    "thal = st.number_input(\"Thal (0=Normal, 1=Fixed defect, 2=Reversible defect)\", min_value=0, max_value=2, step=1)"
   ]
  },
  {
   "cell_type": "code",
   "execution_count": null,
   "id": "26a8ab57-92ea-453d-ba51-1c634fe046b4",
   "metadata": {},
   "outputs": [],
   "source": []
  },
  {
   "cell_type": "code",
   "execution_count": null,
   "id": "3a51cae9-302f-479b-b9e3-a1ddf4312049",
   "metadata": {},
   "outputs": [],
   "source": []
  },
  {
   "cell_type": "code",
   "execution_count": null,
   "id": "153c3402-53da-4e7d-98b6-0a28a1e7f055",
   "metadata": {},
   "outputs": [],
   "source": []
  },
  {
   "cell_type": "code",
   "execution_count": null,
   "id": "4405dc7a-60e7-4176-ac99-f54af72e9bce",
   "metadata": {},
   "outputs": [],
   "source": []
  },
  {
   "cell_type": "code",
   "execution_count": null,
   "id": "cb400599-b23a-4285-9052-0f2573890f23",
   "metadata": {},
   "outputs": [],
   "source": []
  }
 ],
 "metadata": {
  "kernelspec": {
   "display_name": "Python (fnd_env)",
   "language": "python",
   "name": "fnd_env"
  },
  "language_info": {
   "codemirror_mode": {
    "name": "ipython",
    "version": 3
   },
   "file_extension": ".py",
   "mimetype": "text/x-python",
   "name": "python",
   "nbconvert_exporter": "python",
   "pygments_lexer": "ipython3",
   "version": "3.12.3"
  }
 },
 "nbformat": 4,
 "nbformat_minor": 5
}
